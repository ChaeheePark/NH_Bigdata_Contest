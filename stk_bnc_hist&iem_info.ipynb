{
 "cells": [
  {
   "cell_type": "code",
   "execution_count": 56,
   "metadata": {},
   "outputs": [],
   "source": [
    "import pandas as pd"
   ]
  },
  {
   "cell_type": "code",
   "execution_count": 57,
   "metadata": {},
   "outputs": [],
   "source": [
    "cus = pd.read_csv(\"data/cus_info.csv\")\n",
    "iem = pd.read_csv(\"data/iem_info_20210902.csv\")\n",
    "hist = pd.read_csv(\"data/stk_bnc_hist.csv\")\n",
    "train = pd.read_csv(\"data/stk_hld_train.csv\")\n",
    "test = pd.read_csv(\"data/stk_hld_test.csv\")\n",
    "submission = pd.read_csv(\"data/sample_submission.csv\")"
   ]
  },
  {
   "cell_type": "code",
   "execution_count": 58,
   "metadata": {},
   "outputs": [],
   "source": [
    "# 국내주식 잔고이력에서 전체 종목코드 중 뭘 제일 많이 샀는지 내림차순\n",
    "total_iem_cd=hist['iem_cd'].value_counts()"
   ]
  },
  {
   "cell_type": "code",
   "execution_count": 59,
   "metadata": {},
   "outputs": [
    {
     "data": {
      "text/plain": [
       "A005930    61617\n",
       "A000660    22483\n",
       "A035720    21616\n",
       "A005380    17722\n",
       "A005935    17651\n",
       "           ...  \n",
       "A313100        1\n",
       "A153760        1\n",
       "A191390        1\n",
       "A318590        1\n",
       "A004050        1\n",
       "Name: iem_cd, Length: 2926, dtype: int64"
      ]
     },
     "execution_count": 59,
     "metadata": {},
     "output_type": "execute_result"
    }
   ],
   "source": [
    "total_iem_cd"
   ]
  },
  {
   "cell_type": "code",
   "execution_count": 60,
   "metadata": {},
   "outputs": [],
   "source": [
    "# 국내주식 잔고이력에서 전체 종목코드 중 개인 계좌번호에 따른 종목 뭘 제일 많이 샀는지 내림차순\n",
    "personal_iem_cd=hist.groupby('act_id')['iem_cd'].value_counts()"
   ]
  },
  {
   "cell_type": "code",
   "execution_count": 61,
   "metadata": {
    "scrolled": true
   },
   "outputs": [
    {
     "data": {
      "text/plain": [
       "iem_cd\n",
       "A066570    3\n",
       "A003620    2\n",
       "A005880    2\n",
       "A005930    2\n",
       "A008770    2\n",
       "A017810    2\n",
       "A035420    2\n",
       "A035720    2\n",
       "A137400    2\n",
       "A005490    1\n",
       "A005940    1\n",
       "A032640    1\n",
       "A033780    1\n",
       "Name: iem_cd, dtype: int64"
      ]
     },
     "execution_count": 61,
     "metadata": {},
     "output_type": "execute_result"
    }
   ],
   "source": [
    "personal_iem_cd['1119c23c3a504ca7b75060277410c0f6fb9018ec7638c226bfff4211d8a7bde6']"
   ]
  },
  {
   "cell_type": "code",
   "execution_count": 62,
   "metadata": {},
   "outputs": [],
   "source": [
    "act_id_list=hist['act_id'].unique()"
   ]
  },
  {
   "cell_type": "code",
   "execution_count": 63,
   "metadata": {},
   "outputs": [
    {
     "data": {
      "text/plain": [
       "array(['1119c23c3a504ca7b75060277410c0f6fb9018ec7638c226bfff4211d8a7bde6',\n",
       "       '66d8611661423c1e0764994be4a7afe772e70a8f7f3cd2da05b646085d8eb408',\n",
       "       '51c0d868a0d91c15a5eefdd68fbca1d1c5e3215fcebb332b7361238d14ef6b4d',\n",
       "       ...,\n",
       "       'ba4c5e445f98014ba264571300430c4f4b75a81dab02560ec83be94de1feafc3',\n",
       "       '3e51702eea7420c4c0c68831b42bc7dea1b79064df6692f54f8bc04f2cd99093',\n",
       "       '720aa28d24bfa8fbeddf4fe625cb53af0a6f7ff2d526dee26a068e1f63395f91'],\n",
       "      dtype=object)"
      ]
     },
     "execution_count": 63,
     "metadata": {},
     "output_type": "execute_result"
    }
   ],
   "source": [
    "act_id_list"
   ]
  },
  {
   "cell_type": "code",
   "execution_count": 64,
   "metadata": {},
   "outputs": [],
   "source": [
    "from tqdm import tqdm"
   ]
  },
  {
   "cell_type": "code",
   "execution_count": 99,
   "metadata": {},
   "outputs": [
    {
     "name": "stderr",
     "output_type": "stream",
     "text": [
      "  0%|                                                                        | 3916/2573839 [02:47<30:36:19, 23.32it/s]\n"
     ]
    },
    {
     "ename": "KeyboardInterrupt",
     "evalue": "",
     "output_type": "error",
     "traceback": [
      "\u001b[1;31m---------------------------------------------------------------------------\u001b[0m",
      "\u001b[1;31mKeyboardInterrupt\u001b[0m                         Traceback (most recent call last)",
      "\u001b[1;32m<ipython-input-99-9f5b213831f6>\u001b[0m in \u001b[0;36m<module>\u001b[1;34m\u001b[0m\n\u001b[0;32m      2\u001b[0m \u001b[1;32mfor\u001b[0m \u001b[0mi\u001b[0m \u001b[1;32min\u001b[0m \u001b[0mtqdm\u001b[0m\u001b[1;33m(\u001b[0m\u001b[0mrange\u001b[0m\u001b[1;33m(\u001b[0m\u001b[0mlen\u001b[0m\u001b[1;33m(\u001b[0m\u001b[0mhist\u001b[0m\u001b[1;33m)\u001b[0m\u001b[1;33m)\u001b[0m\u001b[1;33m)\u001b[0m\u001b[1;33m:\u001b[0m\u001b[1;33m\u001b[0m\u001b[1;33m\u001b[0m\u001b[0m\n\u001b[0;32m      3\u001b[0m     \u001b[1;32mfor\u001b[0m \u001b[0mj\u001b[0m \u001b[1;32min\u001b[0m \u001b[0mrange\u001b[0m\u001b[1;33m(\u001b[0m\u001b[0mlen\u001b[0m\u001b[1;33m(\u001b[0m\u001b[0miem\u001b[0m\u001b[1;33m)\u001b[0m\u001b[1;33m)\u001b[0m\u001b[1;33m:\u001b[0m\u001b[1;33m\u001b[0m\u001b[1;33m\u001b[0m\u001b[0m\n\u001b[1;32m----> 4\u001b[1;33m         \u001b[1;32mif\u001b[0m \u001b[0mhist\u001b[0m\u001b[1;33m[\u001b[0m\u001b[1;34m'iem_cd'\u001b[0m\u001b[1;33m]\u001b[0m\u001b[1;33m[\u001b[0m\u001b[0mi\u001b[0m\u001b[1;33m]\u001b[0m\u001b[1;33m==\u001b[0m\u001b[0miem\u001b[0m\u001b[1;33m[\u001b[0m\u001b[1;34m'iem_cd'\u001b[0m\u001b[1;33m]\u001b[0m\u001b[1;33m[\u001b[0m\u001b[0mj\u001b[0m\u001b[1;33m]\u001b[0m\u001b[1;33m:\u001b[0m\u001b[1;33m\u001b[0m\u001b[1;33m\u001b[0m\u001b[0m\n\u001b[0m\u001b[0;32m      5\u001b[0m             \u001b[0mtp\u001b[0m\u001b[1;33m[\u001b[0m\u001b[1;34m'id'\u001b[0m\u001b[1;33m]\u001b[0m\u001b[1;33m=\u001b[0m\u001b[0mhist\u001b[0m\u001b[1;33m[\u001b[0m\u001b[1;34m'act_id'\u001b[0m\u001b[1;33m]\u001b[0m\u001b[1;33m[\u001b[0m\u001b[0mi\u001b[0m\u001b[1;33m]\u001b[0m\u001b[1;33m\u001b[0m\u001b[1;33m\u001b[0m\u001b[0m\n\u001b[0;32m      6\u001b[0m             \u001b[0mtp\u001b[0m\u001b[1;33m[\u001b[0m\u001b[1;34m'btp'\u001b[0m\u001b[1;33m]\u001b[0m\u001b[1;33m=\u001b[0m\u001b[0miem\u001b[0m\u001b[1;33m[\u001b[0m\u001b[1;34m'btp_cfc_cd'\u001b[0m\u001b[1;33m]\u001b[0m\u001b[1;33m[\u001b[0m\u001b[0mj\u001b[0m\u001b[1;33m]\u001b[0m\u001b[1;33m\u001b[0m\u001b[1;33m\u001b[0m\u001b[0m\n",
      "\u001b[1;32m~\\anaconda3\\lib\\site-packages\\pandas\\core\\series.py\u001b[0m in \u001b[0;36m__getitem__\u001b[1;34m(self, key)\u001b[0m\n\u001b[0;32m    876\u001b[0m             \u001b[0mkey\u001b[0m \u001b[1;33m=\u001b[0m \u001b[0munpack_1tuple\u001b[0m\u001b[1;33m(\u001b[0m\u001b[0mkey\u001b[0m\u001b[1;33m)\u001b[0m\u001b[1;33m\u001b[0m\u001b[1;33m\u001b[0m\u001b[0m\n\u001b[0;32m    877\u001b[0m \u001b[1;33m\u001b[0m\u001b[0m\n\u001b[1;32m--> 878\u001b[1;33m         \u001b[1;32mif\u001b[0m \u001b[0mis_integer\u001b[0m\u001b[1;33m(\u001b[0m\u001b[0mkey\u001b[0m\u001b[1;33m)\u001b[0m \u001b[1;32mand\u001b[0m \u001b[0mself\u001b[0m\u001b[1;33m.\u001b[0m\u001b[0mindex\u001b[0m\u001b[1;33m.\u001b[0m\u001b[0m_should_fallback_to_positional\u001b[0m\u001b[1;33m(\u001b[0m\u001b[1;33m)\u001b[0m\u001b[1;33m:\u001b[0m\u001b[1;33m\u001b[0m\u001b[1;33m\u001b[0m\u001b[0m\n\u001b[0m\u001b[0;32m    879\u001b[0m             \u001b[1;32mreturn\u001b[0m \u001b[0mself\u001b[0m\u001b[1;33m.\u001b[0m\u001b[0m_values\u001b[0m\u001b[1;33m[\u001b[0m\u001b[0mkey\u001b[0m\u001b[1;33m]\u001b[0m\u001b[1;33m\u001b[0m\u001b[1;33m\u001b[0m\u001b[0m\n\u001b[0;32m    880\u001b[0m \u001b[1;33m\u001b[0m\u001b[0m\n",
      "\u001b[1;31mKeyboardInterrupt\u001b[0m: "
     ]
    }
   ],
   "source": [
    "tp=pd.DataFrame(columns = ['id','btp','mkt','stk'])\n",
    "for i in tqdm(range(len(hist))):\n",
    "    for j in range(len(iem)):\n",
    "        if hist['iem_cd'][i]==iem['iem_cd'][j]:\n",
    "            tp['id']=hist['act_id'][i]\n",
    "            tp['btp']=iem['btp_cfc_cd'][j]\n",
    "            tp['mkt']=iem['mkt_pr_tal_scl_tp_cd'][j]\n",
    "            tp['stk']=iem['stk_dit_cd'][j]\n",
    "            break"
   ]
  },
  {
   "cell_type": "code",
   "execution_count": 107,
   "metadata": {
    "scrolled": true
   },
   "outputs": [
    {
     "name": "stdout",
     "output_type": "stream",
     "text": [
      "1    1\n",
      "Name: 0, dtype: object\n"
     ]
    }
   ],
   "source": [
    "idx=list(range(0,len(iem)))\n",
    "iem_list=iem['iem_cd']\n",
    "tt=pd.DataFrame([idx,iem_list]).T\n",
    "\n",
    "k=tt.loc[tt[1]==t,:][0]\n",
    "print(k)"
   ]
  },
  {
   "cell_type": "code",
   "execution_count": 113,
   "metadata": {},
   "outputs": [
    {
     "name": "stdout",
     "output_type": "stream",
     "text": [
      "A008770\n",
      "0       A000020\n",
      "1       A000080\n",
      "2       A000180\n",
      "3       A000227\n",
      "4       A000325\n",
      "         ...   \n",
      "3074    A383310\n",
      "3075    A385520\n",
      "3076    A388280\n",
      "3077    A388420\n",
      "3078    A394350\n",
      "Name: iem_cd, Length: 3079, dtype: object\n",
      "A005940\n",
      "0       A000020\n",
      "1       A000080\n",
      "2       A000180\n",
      "3       A000227\n",
      "4       A000325\n",
      "         ...   \n",
      "3074    A383310\n",
      "3075    A385520\n",
      "3076    A388280\n",
      "3077    A388420\n",
      "3078    A394350\n",
      "Name: iem_cd, Length: 3079, dtype: object\n"
     ]
    }
   ],
   "source": [
    "tp=pd.DataFrame(columns = ['id','btp','mkt','stk'])\n",
    "for i in (0,2):#tqdm(range(len(hist))):\n",
    "    print(hist['iem_cd'][i])\n",
    "    print(iem_list)\n",
    "    if hist['iem_cd'][i] in iem_list:\n",
    "        print('123')\n",
    "        t=hist['iem_cd']\n",
    "        print(t)\n",
    "        k=tt.loc[tt[1]==t,:][0]\n",
    "        tp['id']=hist['act_id'][k]\n",
    "        tp['btp']=iem['btp_cfc_cd'][k]\n",
    "        tp['mkt']=iem['mkt_pr_tal_scl_tp_cd'][k]\n",
    "        tp['stk']=iem['stk_dit_cd'][k]\n",
    "        break"
   ]
  },
  {
   "cell_type": "code",
   "execution_count": 109,
   "metadata": {},
   "outputs": [
    {
     "data": {
      "text/html": [
       "<div>\n",
       "<style scoped>\n",
       "    .dataframe tbody tr th:only-of-type {\n",
       "        vertical-align: middle;\n",
       "    }\n",
       "\n",
       "    .dataframe tbody tr th {\n",
       "        vertical-align: top;\n",
       "    }\n",
       "\n",
       "    .dataframe thead th {\n",
       "        text-align: right;\n",
       "    }\n",
       "</style>\n",
       "<table border=\"1\" class=\"dataframe\">\n",
       "  <thead>\n",
       "    <tr style=\"text-align: right;\">\n",
       "      <th></th>\n",
       "      <th>id</th>\n",
       "      <th>btp</th>\n",
       "      <th>mkt</th>\n",
       "      <th>stk</th>\n",
       "    </tr>\n",
       "  </thead>\n",
       "  <tbody>\n",
       "  </tbody>\n",
       "</table>\n",
       "</div>"
      ],
      "text/plain": [
       "Empty DataFrame\n",
       "Columns: [id, btp, mkt, stk]\n",
       "Index: []"
      ]
     },
     "execution_count": 109,
     "metadata": {},
     "output_type": "execute_result"
    }
   ],
   "source": [
    "tp"
   ]
  },
  {
   "cell_type": "code",
   "execution_count": 131,
   "metadata": {},
   "outputs": [
    {
     "name": "stdout",
     "output_type": "stream",
     "text": [
      "error\n"
     ]
    }
   ],
   "source": [
    "if hist['iem_cd'][0] in iem_list:\n",
    "    print('tt')\n",
    "else:\n",
    "    print('error')"
   ]
  },
  {
   "cell_type": "code",
   "execution_count": 126,
   "metadata": {},
   "outputs": [
    {
     "data": {
      "text/plain": [
       "'A008770'"
      ]
     },
     "execution_count": 126,
     "metadata": {},
     "output_type": "execute_result"
    }
   ],
   "source": [
    "iem_list[115]"
   ]
  },
  {
   "cell_type": "code",
   "execution_count": 133,
   "metadata": {},
   "outputs": [
    {
     "data": {
      "text/plain": [
       "str"
      ]
     },
     "execution_count": 133,
     "metadata": {},
     "output_type": "execute_result"
    }
   ],
   "source": [
    "type(hist['iem_cd'][0])"
   ]
  },
  {
   "cell_type": "code",
   "execution_count": 132,
   "metadata": {},
   "outputs": [
    {
     "data": {
      "text/plain": [
       "str"
      ]
     },
     "execution_count": 132,
     "metadata": {},
     "output_type": "execute_result"
    }
   ],
   "source": [
    "type(iem_list[115])"
   ]
  },
  {
   "cell_type": "code",
   "execution_count": null,
   "metadata": {},
   "outputs": [],
   "source": [
    "아니 같은 str인데 왜 안됨?"
   ]
  }
 ],
 "metadata": {
  "kernelspec": {
   "display_name": "Python 3",
   "language": "python",
   "name": "python3"
  },
  "language_info": {
   "codemirror_mode": {
    "name": "ipython",
    "version": 3
   },
   "file_extension": ".py",
   "mimetype": "text/x-python",
   "name": "python",
   "nbconvert_exporter": "python",
   "pygments_lexer": "ipython3",
   "version": "3.7.9"
  }
 },
 "nbformat": 4,
 "nbformat_minor": 4
}
