{
 "cells": [
  {
   "cell_type": "code",
   "execution_count": 1,
   "metadata": {},
   "outputs": [],
   "source": [
    "import pandas as pd\n",
    "cus = pd.read_csv(\"data/cus_info.csv\")\n",
    "iem = pd.read_csv(\"data/iem_info_20210902.csv\")\n",
    "hist = pd.read_csv(\"data/stk_bnc_hist.csv\")\n",
    "train = pd.read_csv(\"data/stk_hld_train.csv\")\n",
    "test = pd.read_csv(\"data/stk_hld_test.csv\")\n",
    "submission = pd.read_csv(\"data/sample_submission.csv\")"
   ]
  },
  {
   "cell_type": "code",
   "execution_count": 7,
   "metadata": {},
   "outputs": [
    {
     "data": {
      "text/plain": [
       "0          1119c23c3a504ca7b75060277410c0f6fb9018ec7638c2...\n",
       "1          1119c23c3a504ca7b75060277410c0f6fb9018ec7638c2...\n",
       "2          1119c23c3a504ca7b75060277410c0f6fb9018ec7638c2...\n",
       "3          1119c23c3a504ca7b75060277410c0f6fb9018ec7638c2...\n",
       "4          1119c23c3a504ca7b75060277410c0f6fb9018ec7638c2...\n",
       "                                 ...                        \n",
       "2573834    720aa28d24bfa8fbeddf4fe625cb53af0a6f7ff2d526de...\n",
       "2573835    720aa28d24bfa8fbeddf4fe625cb53af0a6f7ff2d526de...\n",
       "2573836    720aa28d24bfa8fbeddf4fe625cb53af0a6f7ff2d526de...\n",
       "2573837    720aa28d24bfa8fbeddf4fe625cb53af0a6f7ff2d526de...\n",
       "2573838    720aa28d24bfa8fbeddf4fe625cb53af0a6f7ff2d526de...\n",
       "Name: act_id, Length: 2573839, dtype: object"
      ]
     },
     "execution_count": 7,
     "metadata": {},
     "output_type": "execute_result"
    }
   ],
   "source": []
  },
  {
   "cell_type": "code",
   "execution_count": null,
   "metadata": {},
   "outputs": [],
   "source": []
  }
 ],
 "metadata": {
  "kernelspec": {
   "display_name": "Python 3",
   "language": "python",
   "name": "python3"
  },
  "language_info": {
   "codemirror_mode": {
    "name": "ipython",
    "version": 3
   },
   "file_extension": ".py",
   "mimetype": "text/x-python",
   "name": "python",
   "nbconvert_exporter": "python",
   "pygments_lexer": "ipython3",
   "version": "3.7.9"
  }
 },
 "nbformat": 4,
 "nbformat_minor": 4
}
