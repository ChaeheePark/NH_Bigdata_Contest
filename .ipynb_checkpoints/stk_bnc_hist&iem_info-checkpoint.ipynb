{
 "cells": [
  {
   "cell_type": "code",
   "execution_count": 1,
   "metadata": {},
   "outputs": [],
   "source": [
    "import pandas as pd"
   ]
  },
  {
   "cell_type": "code",
   "execution_count": 2,
   "metadata": {},
   "outputs": [],
   "source": [
    "cus = pd.read_csv(\"data/cus_info.csv\")\n",
    "iem = pd.read_csv(\"data/iem_info_20210902.csv\")\n",
    "hist = pd.read_csv(\"data/stk_bnc_hist.csv\")\n",
    "train = pd.read_csv(\"data/stk_hld_train.csv\")\n",
    "test = pd.read_csv(\"data/stk_hld_test.csv\")\n",
    "submission = pd.read_csv(\"data/sample_submission.csv\")"
   ]
  },
  {
   "cell_type": "code",
   "execution_count": 3,
   "metadata": {},
   "outputs": [],
   "source": [
    "# 국내주식 잔고이력에서 전체 종목코드 중 뭘 제일 많이 샀는지 내림차순\n",
    "total_iem_cd=hist['iem_cd'].value_counts()"
   ]
  },
  {
   "cell_type": "code",
   "execution_count": 4,
   "metadata": {},
   "outputs": [
    {
     "data": {
      "text/plain": [
       "A005930    61617\n",
       "A000660    22483\n",
       "A035720    21616\n",
       "A005380    17722\n",
       "A005935    17651\n",
       "           ...  \n",
       "A343510        1\n",
       "A333450        1\n",
       "A35286N        1\n",
       "A145730        1\n",
       "A333900        1\n",
       "Name: iem_cd, Length: 2926, dtype: int64"
      ]
     },
     "execution_count": 4,
     "metadata": {},
     "output_type": "execute_result"
    }
   ],
   "source": [
    "total_iem_cd"
   ]
  },
  {
   "cell_type": "code",
   "execution_count": 5,
   "metadata": {},
   "outputs": [],
   "source": [
    "# 국내주식 잔고이력에서 전체 종목코드 중 개인 계좌번호에 따른 종목 뭘 제일 많이 샀는지 내림차순\n",
    "personal_iem_cd=hist.groupby('act_id')['iem_cd'].value_counts()"
   ]
  },
  {
   "cell_type": "code",
   "execution_count": 6,
   "metadata": {
    "scrolled": true
   },
   "outputs": [
    {
     "data": {
      "text/plain": [
       "iem_cd\n",
       "A066570    3\n",
       "A003620    2\n",
       "A005880    2\n",
       "A005930    2\n",
       "A008770    2\n",
       "A017810    2\n",
       "A035420    2\n",
       "A035720    2\n",
       "A137400    2\n",
       "A005490    1\n",
       "A005940    1\n",
       "A032640    1\n",
       "A033780    1\n",
       "Name: iem_cd, dtype: int64"
      ]
     },
     "execution_count": 6,
     "metadata": {},
     "output_type": "execute_result"
    }
   ],
   "source": [
    "personal_iem_cd['1119c23c3a504ca7b75060277410c0f6fb9018ec7638c226bfff4211d8a7bde6']"
   ]
  },
  {
   "cell_type": "code",
   "execution_count": 7,
   "metadata": {},
   "outputs": [],
   "source": [
    "act_id_list=hist['act_id'].unique()"
   ]
  },
  {
   "cell_type": "code",
   "execution_count": 8,
   "metadata": {},
   "outputs": [
    {
     "data": {
      "text/plain": [
       "array(['1119c23c3a504ca7b75060277410c0f6fb9018ec7638c226bfff4211d8a7bde6',\n",
       "       '66d8611661423c1e0764994be4a7afe772e70a8f7f3cd2da05b646085d8eb408',\n",
       "       '51c0d868a0d91c15a5eefdd68fbca1d1c5e3215fcebb332b7361238d14ef6b4d',\n",
       "       ...,\n",
       "       'ba4c5e445f98014ba264571300430c4f4b75a81dab02560ec83be94de1feafc3',\n",
       "       '3e51702eea7420c4c0c68831b42bc7dea1b79064df6692f54f8bc04f2cd99093',\n",
       "       '720aa28d24bfa8fbeddf4fe625cb53af0a6f7ff2d526dee26a068e1f63395f91'],\n",
       "      dtype=object)"
      ]
     },
     "execution_count": 8,
     "metadata": {},
     "output_type": "execute_result"
    }
   ],
   "source": [
    "act_id_list"
   ]
  },
  {
   "cell_type": "code",
   "execution_count": 9,
   "metadata": {},
   "outputs": [],
   "source": [
    "from tqdm import tqdm"
   ]
  },
  {
   "cell_type": "code",
   "execution_count": 14,
   "metadata": {
    "scrolled": true
   },
   "outputs": [],
   "source": [
    "idx=list(range(0,len(iem)))\n",
    "iem_list=iem['iem_cd'].to_list()\n",
    "tt=pd.DataFrame([idx,iem_list]).T"
   ]
  },
  {
   "cell_type": "code",
   "execution_count": 15,
   "metadata": {},
   "outputs": [
    {
     "data": {
      "text/plain": [
       "list"
      ]
     },
     "execution_count": 15,
     "metadata": {},
     "output_type": "execute_result"
    }
   ],
   "source": [
    "type(iem_list)"
   ]
  },
  {
   "cell_type": "code",
   "execution_count": 113,
   "metadata": {},
   "outputs": [
    {
     "name": "stdout",
     "output_type": "stream",
     "text": [
      "A008770\n",
      "0       A000020\n",
      "1       A000080\n",
      "2       A000180\n",
      "3       A000227\n",
      "4       A000325\n",
      "         ...   \n",
      "3074    A383310\n",
      "3075    A385520\n",
      "3076    A388280\n",
      "3077    A388420\n",
      "3078    A394350\n",
      "Name: iem_cd, Length: 3079, dtype: object\n",
      "A005940\n",
      "0       A000020\n",
      "1       A000080\n",
      "2       A000180\n",
      "3       A000227\n",
      "4       A000325\n",
      "         ...   \n",
      "3074    A383310\n",
      "3075    A385520\n",
      "3076    A388280\n",
      "3077    A388420\n",
      "3078    A394350\n",
      "Name: iem_cd, Length: 3079, dtype: object\n"
     ]
    }
   ],
   "source": [
    "tp=pd.DataFrame(columns = ['id','btp','mkt','stk'])\n",
    "for i in (0,2):#tqdm(range(len(hist))):\n",
    "    print(hist['iem_cd'][i])\n",
    "    print(iem_list)\n",
    "    if hist['iem_cd'][i] in iem_list:\n",
    "        print('123')\n",
    "        t=hist['iem_cd']\n",
    "        print(t)\n",
    "        k=tt.loc[tt[1]==t,:][0]\n",
    "        tp['id']=hist['act_id'][k]\n",
    "        tp['btp']=iem['btp_cfc_cd'][k]\n",
    "        tp['mkt']=iem['mkt_pr_tal_scl_tp_cd'][k]\n",
    "        tp['stk']=iem['stk_dit_cd'][k]\n",
    "        break"
   ]
  },
  {
   "cell_type": "code",
   "execution_count": 109,
   "metadata": {},
   "outputs": [
    {
     "data": {
      "text/html": [
       "<div>\n",
       "<style scoped>\n",
       "    .dataframe tbody tr th:only-of-type {\n",
       "        vertical-align: middle;\n",
       "    }\n",
       "\n",
       "    .dataframe tbody tr th {\n",
       "        vertical-align: top;\n",
       "    }\n",
       "\n",
       "    .dataframe thead th {\n",
       "        text-align: right;\n",
       "    }\n",
       "</style>\n",
       "<table border=\"1\" class=\"dataframe\">\n",
       "  <thead>\n",
       "    <tr style=\"text-align: right;\">\n",
       "      <th></th>\n",
       "      <th>id</th>\n",
       "      <th>btp</th>\n",
       "      <th>mkt</th>\n",
       "      <th>stk</th>\n",
       "    </tr>\n",
       "  </thead>\n",
       "  <tbody>\n",
       "  </tbody>\n",
       "</table>\n",
       "</div>"
      ],
      "text/plain": [
       "Empty DataFrame\n",
       "Columns: [id, btp, mkt, stk]\n",
       "Index: []"
      ]
     },
     "execution_count": 109,
     "metadata": {},
     "output_type": "execute_result"
    }
   ],
   "source": [
    "tp"
   ]
  },
  {
   "cell_type": "code",
   "execution_count": 16,
   "metadata": {},
   "outputs": [
    {
     "name": "stdout",
     "output_type": "stream",
     "text": [
      "tt\n"
     ]
    }
   ],
   "source": [
    "if hist['iem_cd'][0] in iem_list:\n",
    "    print('tt')\n",
    "else:\n",
    "    print('error')"
   ]
  },
  {
   "cell_type": "code",
   "execution_count": 126,
   "metadata": {},
   "outputs": [
    {
     "data": {
      "text/plain": [
       "'A008770'"
      ]
     },
     "execution_count": 126,
     "metadata": {},
     "output_type": "execute_result"
    }
   ],
   "source": [
    "iem_list[115]"
   ]
  },
  {
   "cell_type": "code",
   "execution_count": 133,
   "metadata": {},
   "outputs": [
    {
     "data": {
      "text/plain": [
       "str"
      ]
     },
     "execution_count": 133,
     "metadata": {},
     "output_type": "execute_result"
    }
   ],
   "source": [
    "type(hist['iem_cd'][0])"
   ]
  },
  {
   "cell_type": "code",
   "execution_count": 132,
   "metadata": {},
   "outputs": [
    {
     "data": {
      "text/plain": [
       "str"
      ]
     },
     "execution_count": 132,
     "metadata": {},
     "output_type": "execute_result"
    }
   ],
   "source": [
    "type(iem_list[115])"
   ]
  },
  {
   "cell_type": "code",
   "execution_count": null,
   "metadata": {},
   "outputs": [],
   "source": [
    "아니 같은 str인데 왜 안됨?"
   ]
  }
 ],
 "metadata": {
  "kernelspec": {
   "display_name": "Python 3",
   "language": "python",
   "name": "python3"
  },
  "language_info": {
   "codemirror_mode": {
    "name": "ipython",
    "version": 3
   },
   "file_extension": ".py",
   "mimetype": "text/x-python",
   "name": "python",
   "nbconvert_exporter": "python",
   "pygments_lexer": "ipython3",
   "version": "3.7.9"
  }
 },
 "nbformat": 4,
 "nbformat_minor": 4
}
