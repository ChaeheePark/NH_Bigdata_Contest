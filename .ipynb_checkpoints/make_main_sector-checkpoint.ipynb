{
 "cells": [
  {
   "cell_type": "code",
   "execution_count": 1,
   "metadata": {
    "ExecuteTime": {
     "end_time": "2021-09-17T06:24:06.193283Z",
     "start_time": "2021-09-17T06:24:02.846829Z"
    }
   },
   "outputs": [],
   "source": [
    "import pandas as pd\n",
    "\n",
    "cus_info = pd.read_csv('../cus_info.csv')\n",
    "stk_bnc_hist = pd.read_csv('../stk_bnc_hist.csv')\n",
    "iem_info = pd.read_csv('../iem_info_20210902.csv')\n",
    "stk_hld_train = pd.read_csv('../stk_hld_train.csv')\n",
    "stk_hld_test = pd.read_csv('../stk_hld_test.csv')"
   ]
  },
  {
   "cell_type": "code",
   "execution_count": 2,
   "metadata": {
    "ExecuteTime": {
     "end_time": "2021-09-17T06:24:06.298533Z",
     "start_time": "2021-09-17T06:24:06.196435Z"
    }
   },
   "outputs": [],
   "source": [
    "temp_stk = stk_bnc_hist.copy()"
   ]
  },
  {
   "cell_type": "code",
   "execution_count": null,
   "metadata": {},
   "outputs": [],
   "source": []
  },
  {
   "cell_type": "code",
   "execution_count": 3,
   "metadata": {
    "ExecuteTime": {
     "end_time": "2021-09-17T06:24:07.637045Z",
     "start_time": "2021-09-17T06:24:06.301148Z"
    }
   },
   "outputs": [],
   "source": [
    "temp_map = iem_info.apply(lambda x : x[['iem_cd','btp_cfc_cd']],axis=1)"
   ]
  },
  {
   "cell_type": "code",
   "execution_count": 4,
   "metadata": {
    "ExecuteTime": {
     "end_time": "2021-09-17T06:24:08.290313Z",
     "start_time": "2021-09-17T06:24:07.639970Z"
    }
   },
   "outputs": [
    {
     "data": {
      "text/html": [
       "<div>\n",
       "<style scoped>\n",
       "    .dataframe tbody tr th:only-of-type {\n",
       "        vertical-align: middle;\n",
       "    }\n",
       "\n",
       "    .dataframe tbody tr th {\n",
       "        vertical-align: top;\n",
       "    }\n",
       "\n",
       "    .dataframe thead th {\n",
       "        text-align: right;\n",
       "    }\n",
       "</style>\n",
       "<table border=\"1\" class=\"dataframe\">\n",
       "  <thead>\n",
       "    <tr style=\"text-align: right;\">\n",
       "      <th></th>\n",
       "      <th>act_id</th>\n",
       "      <th>bse_dt</th>\n",
       "      <th>iem_cd</th>\n",
       "      <th>bnc_qty</th>\n",
       "      <th>tot_aet_amt</th>\n",
       "      <th>stk_par_pr</th>\n",
       "      <th>btp_cfc_cd</th>\n",
       "    </tr>\n",
       "  </thead>\n",
       "  <tbody>\n",
       "    <tr>\n",
       "      <th>0</th>\n",
       "      <td>1119c23c3a504ca7b75060277410c0f6fb9018ec7638c2...</td>\n",
       "      <td>20200820</td>\n",
       "      <td>A008770</td>\n",
       "      <td>40.0</td>\n",
       "      <td>2828000.0</td>\n",
       "      <td>5000.0</td>\n",
       "      <td>7</td>\n",
       "    </tr>\n",
       "    <tr>\n",
       "      <th>1</th>\n",
       "      <td>1119c23c3a504ca7b75060277410c0f6fb9018ec7638c2...</td>\n",
       "      <td>20200623</td>\n",
       "      <td>A008770</td>\n",
       "      <td>20.0</td>\n",
       "      <td>1390000.0</td>\n",
       "      <td>5000.0</td>\n",
       "      <td>7</td>\n",
       "    </tr>\n",
       "    <tr>\n",
       "      <th>2</th>\n",
       "      <td>1119c23c3a504ca7b75060277410c0f6fb9018ec7638c2...</td>\n",
       "      <td>20160104</td>\n",
       "      <td>A005940</td>\n",
       "      <td>311.0</td>\n",
       "      <td>2982490.0</td>\n",
       "      <td>5000.0</td>\n",
       "      <td>2</td>\n",
       "    </tr>\n",
       "    <tr>\n",
       "      <th>3</th>\n",
       "      <td>1119c23c3a504ca7b75060277410c0f6fb9018ec7638c2...</td>\n",
       "      <td>20200814</td>\n",
       "      <td>A005930</td>\n",
       "      <td>40.0</td>\n",
       "      <td>2320000.0</td>\n",
       "      <td>100.0</td>\n",
       "      <td>9</td>\n",
       "    </tr>\n",
       "    <tr>\n",
       "      <th>4</th>\n",
       "      <td>1119c23c3a504ca7b75060277410c0f6fb9018ec7638c2...</td>\n",
       "      <td>20200623</td>\n",
       "      <td>A005930</td>\n",
       "      <td>20.0</td>\n",
       "      <td>1028000.0</td>\n",
       "      <td>100.0</td>\n",
       "      <td>9</td>\n",
       "    </tr>\n",
       "    <tr>\n",
       "      <th>...</th>\n",
       "      <td>...</td>\n",
       "      <td>...</td>\n",
       "      <td>...</td>\n",
       "      <td>...</td>\n",
       "      <td>...</td>\n",
       "      <td>...</td>\n",
       "      <td>...</td>\n",
       "    </tr>\n",
       "    <tr>\n",
       "      <th>2573834</th>\n",
       "      <td>720aa28d24bfa8fbeddf4fe625cb53af0a6f7ff2d526de...</td>\n",
       "      <td>20200806</td>\n",
       "      <td>A035720</td>\n",
       "      <td>1.0</td>\n",
       "      <td>364000.0</td>\n",
       "      <td>500.0</td>\n",
       "      <td>5</td>\n",
       "    </tr>\n",
       "    <tr>\n",
       "      <th>2573835</th>\n",
       "      <td>720aa28d24bfa8fbeddf4fe625cb53af0a6f7ff2d526de...</td>\n",
       "      <td>20200813</td>\n",
       "      <td>A035720</td>\n",
       "      <td>0.0</td>\n",
       "      <td>0.0</td>\n",
       "      <td>500.0</td>\n",
       "      <td>5</td>\n",
       "    </tr>\n",
       "    <tr>\n",
       "      <th>2573836</th>\n",
       "      <td>720aa28d24bfa8fbeddf4fe625cb53af0a6f7ff2d526de...</td>\n",
       "      <td>20200819</td>\n",
       "      <td>A035720</td>\n",
       "      <td>1.0</td>\n",
       "      <td>376500.0</td>\n",
       "      <td>500.0</td>\n",
       "      <td>5</td>\n",
       "    </tr>\n",
       "    <tr>\n",
       "      <th>2573837</th>\n",
       "      <td>720aa28d24bfa8fbeddf4fe625cb53af0a6f7ff2d526de...</td>\n",
       "      <td>20200825</td>\n",
       "      <td>A035720</td>\n",
       "      <td>0.0</td>\n",
       "      <td>0.0</td>\n",
       "      <td>500.0</td>\n",
       "      <td>5</td>\n",
       "    </tr>\n",
       "    <tr>\n",
       "      <th>2573838</th>\n",
       "      <td>720aa28d24bfa8fbeddf4fe625cb53af0a6f7ff2d526de...</td>\n",
       "      <td>20200901</td>\n",
       "      <td>A035720</td>\n",
       "      <td>1.0</td>\n",
       "      <td>401500.0</td>\n",
       "      <td>500.0</td>\n",
       "      <td>5</td>\n",
       "    </tr>\n",
       "  </tbody>\n",
       "</table>\n",
       "<p>2573839 rows × 7 columns</p>\n",
       "</div>"
      ],
      "text/plain": [
       "                                                    act_id    bse_dt   iem_cd  \\\n",
       "0        1119c23c3a504ca7b75060277410c0f6fb9018ec7638c2...  20200820  A008770   \n",
       "1        1119c23c3a504ca7b75060277410c0f6fb9018ec7638c2...  20200623  A008770   \n",
       "2        1119c23c3a504ca7b75060277410c0f6fb9018ec7638c2...  20160104  A005940   \n",
       "3        1119c23c3a504ca7b75060277410c0f6fb9018ec7638c2...  20200814  A005930   \n",
       "4        1119c23c3a504ca7b75060277410c0f6fb9018ec7638c2...  20200623  A005930   \n",
       "...                                                    ...       ...      ...   \n",
       "2573834  720aa28d24bfa8fbeddf4fe625cb53af0a6f7ff2d526de...  20200806  A035720   \n",
       "2573835  720aa28d24bfa8fbeddf4fe625cb53af0a6f7ff2d526de...  20200813  A035720   \n",
       "2573836  720aa28d24bfa8fbeddf4fe625cb53af0a6f7ff2d526de...  20200819  A035720   \n",
       "2573837  720aa28d24bfa8fbeddf4fe625cb53af0a6f7ff2d526de...  20200825  A035720   \n",
       "2573838  720aa28d24bfa8fbeddf4fe625cb53af0a6f7ff2d526de...  20200901  A035720   \n",
       "\n",
       "         bnc_qty  tot_aet_amt  stk_par_pr  btp_cfc_cd  \n",
       "0           40.0    2828000.0      5000.0           7  \n",
       "1           20.0    1390000.0      5000.0           7  \n",
       "2          311.0    2982490.0      5000.0           2  \n",
       "3           40.0    2320000.0       100.0           9  \n",
       "4           20.0    1028000.0       100.0           9  \n",
       "...          ...          ...         ...         ...  \n",
       "2573834      1.0     364000.0       500.0           5  \n",
       "2573835      0.0          0.0       500.0           5  \n",
       "2573836      1.0     376500.0       500.0           5  \n",
       "2573837      0.0          0.0       500.0           5  \n",
       "2573838      1.0     401500.0       500.0           5  \n",
       "\n",
       "[2573839 rows x 7 columns]"
      ]
     },
     "execution_count": 4,
     "metadata": {},
     "output_type": "execute_result"
    }
   ],
   "source": [
    "temp_stk = pd.merge(temp_stk,temp_map,on='iem_cd',how='left')\n",
    "temp_stk"
   ]
  },
  {
   "cell_type": "code",
   "execution_count": 5,
   "metadata": {
    "ExecuteTime": {
     "end_time": "2021-09-17T06:24:08.916215Z",
     "start_time": "2021-09-17T06:24:08.291934Z"
    }
   },
   "outputs": [
    {
     "data": {
      "text/plain": [
       "act_id                                                            btp_cfc_cd\n",
       "0000c7a5a5a1db9c7e890da984b20d544c09cb6f51c5467ece45d5b35e99912a  13            38\n",
       "                                                                  10            26\n",
       "                                                                  14            19\n",
       "                                                                  12            18\n",
       "                                                                  2             16\n",
       "                                                                                ..\n",
       "fff9cf3aaffd32dcbf70dce8e5216411f9d38537b477d6bc012f43564f626533  6              9\n",
       "                                                                  8              6\n",
       "                                                                  14             5\n",
       "                                                                  12             4\n",
       "                                                                  2              2\n",
       "Name: btp_cfc_cd, Length: 85935, dtype: int64"
      ]
     },
     "execution_count": 5,
     "metadata": {},
     "output_type": "execute_result"
    }
   ],
   "source": [
    "temp_stk.groupby('act_id')['btp_cfc_cd'].value_counts()"
   ]
  },
  {
   "cell_type": "code",
   "execution_count": 6,
   "metadata": {
    "ExecuteTime": {
     "end_time": "2021-09-17T06:24:09.521963Z",
     "start_time": "2021-09-17T06:24:08.918366Z"
    }
   },
   "outputs": [],
   "source": [
    "temp = temp_stk.groupby('act_id')['btp_cfc_cd'].value_counts()"
   ]
  },
  {
   "cell_type": "code",
   "execution_count": 7,
   "metadata": {
    "ExecuteTime": {
     "end_time": "2021-09-17T06:24:10.126605Z",
     "start_time": "2021-09-17T06:24:09.523805Z"
    }
   },
   "outputs": [
    {
     "name": "stdout",
     "output_type": "stream",
     "text": [
      "                                                  act_id  btp_cfc_cd  main_up\n",
      "0      0000c7a5a5a1db9c7e890da984b20d544c09cb6f51c546...          13       38\n",
      "1      0000c7a5a5a1db9c7e890da984b20d544c09cb6f51c546...          10       26\n",
      "2      0000c7a5a5a1db9c7e890da984b20d544c09cb6f51c546...          14       19\n",
      "3      0000c7a5a5a1db9c7e890da984b20d544c09cb6f51c546...          12       18\n",
      "4      0000c7a5a5a1db9c7e890da984b20d544c09cb6f51c546...           2       16\n",
      "...                                                  ...         ...      ...\n",
      "85930  fff9cf3aaffd32dcbf70dce8e5216411f9d38537b477d6...           6        9\n",
      "85931  fff9cf3aaffd32dcbf70dce8e5216411f9d38537b477d6...           8        6\n",
      "85932  fff9cf3aaffd32dcbf70dce8e5216411f9d38537b477d6...          14        5\n",
      "85933  fff9cf3aaffd32dcbf70dce8e5216411f9d38537b477d6...          12        4\n",
      "85934  fff9cf3aaffd32dcbf70dce8e5216411f9d38537b477d6...           2        2\n",
      "\n",
      "[85935 rows x 3 columns]\n"
     ]
    }
   ],
   "source": [
    "temp = temp_stk.groupby('act_id')['btp_cfc_cd'].value_counts()\n",
    "temp = pd.DataFrame(temp)\n",
    "temp.columns=['main_up']\n",
    "temp = temp.reset_index()\n",
    "print(temp)\n",
    "# temp.groupby('act_id')['btp_cfc_cd']"
   ]
  },
  {
   "cell_type": "code",
   "execution_count": 8,
   "metadata": {
    "ExecuteTime": {
     "end_time": "2021-09-17T06:24:10.707790Z",
     "start_time": "2021-09-17T06:24:10.130086Z"
    }
   },
   "outputs": [
    {
     "data": {
      "text/html": [
       "<div>\n",
       "<style scoped>\n",
       "    .dataframe tbody tr th:only-of-type {\n",
       "        vertical-align: middle;\n",
       "    }\n",
       "\n",
       "    .dataframe tbody tr th {\n",
       "        vertical-align: top;\n",
       "    }\n",
       "\n",
       "    .dataframe thead th {\n",
       "        text-align: right;\n",
       "    }\n",
       "</style>\n",
       "<table border=\"1\" class=\"dataframe\">\n",
       "  <thead>\n",
       "    <tr style=\"text-align: right;\">\n",
       "      <th></th>\n",
       "      <th>act_id</th>\n",
       "      <th>btp_cfc_cd</th>\n",
       "    </tr>\n",
       "  </thead>\n",
       "  <tbody>\n",
       "    <tr>\n",
       "      <th>0</th>\n",
       "      <td>0000c7a5a5a1db9c7e890da984b20d544c09cb6f51c546...</td>\n",
       "      <td>13</td>\n",
       "    </tr>\n",
       "    <tr>\n",
       "      <th>1</th>\n",
       "      <td>0007f3d10282e6f9de1eb445a64eb1f13e9ed2308cfbfa...</td>\n",
       "      <td>9</td>\n",
       "    </tr>\n",
       "    <tr>\n",
       "      <th>2</th>\n",
       "      <td>0008d1bfac569bdb998897e2eb8519dec06b9277a686f4...</td>\n",
       "      <td>13</td>\n",
       "    </tr>\n",
       "    <tr>\n",
       "      <th>3</th>\n",
       "      <td>000a83a961cbcbce40673aed998effbd462fb10dcac8e6...</td>\n",
       "      <td>5</td>\n",
       "    </tr>\n",
       "    <tr>\n",
       "      <th>4</th>\n",
       "      <td>000b92ca83a96312a0909b1f489340f4d399c86555012f...</td>\n",
       "      <td>9</td>\n",
       "    </tr>\n",
       "    <tr>\n",
       "      <th>...</th>\n",
       "      <td>...</td>\n",
       "      <td>...</td>\n",
       "    </tr>\n",
       "    <tr>\n",
       "      <th>9987</th>\n",
       "      <td>ffea89aa464a4fcf8a5416989d21deef4e748192ba17bf...</td>\n",
       "      <td>10</td>\n",
       "    </tr>\n",
       "    <tr>\n",
       "      <th>9988</th>\n",
       "      <td>ffecc8e2823943ef1a7b0d9c6512f716a88032a1bdf7ba...</td>\n",
       "      <td>10</td>\n",
       "    </tr>\n",
       "    <tr>\n",
       "      <th>9989</th>\n",
       "      <td>ffee399294db1c721e010cbf3dae5c8a1f140dbaf2dcae...</td>\n",
       "      <td>5</td>\n",
       "    </tr>\n",
       "    <tr>\n",
       "      <th>9990</th>\n",
       "      <td>fff7d563e388744fdc1ca90153ec0161d1345511cb9070...</td>\n",
       "      <td>10</td>\n",
       "    </tr>\n",
       "    <tr>\n",
       "      <th>9991</th>\n",
       "      <td>fff9cf3aaffd32dcbf70dce8e5216411f9d38537b477d6...</td>\n",
       "      <td>9</td>\n",
       "    </tr>\n",
       "  </tbody>\n",
       "</table>\n",
       "<p>9992 rows × 2 columns</p>\n",
       "</div>"
      ],
      "text/plain": [
       "                                                 act_id  btp_cfc_cd\n",
       "0     0000c7a5a5a1db9c7e890da984b20d544c09cb6f51c546...          13\n",
       "1     0007f3d10282e6f9de1eb445a64eb1f13e9ed2308cfbfa...           9\n",
       "2     0008d1bfac569bdb998897e2eb8519dec06b9277a686f4...          13\n",
       "3     000a83a961cbcbce40673aed998effbd462fb10dcac8e6...           5\n",
       "4     000b92ca83a96312a0909b1f489340f4d399c86555012f...           9\n",
       "...                                                 ...         ...\n",
       "9987  ffea89aa464a4fcf8a5416989d21deef4e748192ba17bf...          10\n",
       "9988  ffecc8e2823943ef1a7b0d9c6512f716a88032a1bdf7ba...          10\n",
       "9989  ffee399294db1c721e010cbf3dae5c8a1f140dbaf2dcae...           5\n",
       "9990  fff7d563e388744fdc1ca90153ec0161d1345511cb9070...          10\n",
       "9991  fff9cf3aaffd32dcbf70dce8e5216411f9d38537b477d6...           9\n",
       "\n",
       "[9992 rows x 2 columns]"
      ]
     },
     "execution_count": 8,
     "metadata": {},
     "output_type": "execute_result"
    }
   ],
   "source": [
    "temp.iloc[temp.groupby('act_id')['main_up'].idxmax().to_list()].reset_index(drop=True).drop('main_up',axis=1)"
   ]
  }
 ],
 "metadata": {
  "kernelspec": {
   "display_name": "Python 3",
   "language": "python",
   "name": "python3"
  },
  "language_info": {
   "codemirror_mode": {
    "name": "ipython",
    "version": 3
   },
   "file_extension": ".py",
   "mimetype": "text/x-python",
   "name": "python",
   "nbconvert_exporter": "python",
   "pygments_lexer": "ipython3",
   "version": "3.7.9"
  }
 },
 "nbformat": 4,
 "nbformat_minor": 5
}
